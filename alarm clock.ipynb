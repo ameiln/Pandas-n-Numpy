{
 "cells": [
  {
   "cell_type": "markdown",
   "id": "a56d333f-219d-4386-b5d3-2c177cd79c3f",
   "metadata": {
    "tags": []
   },
   "source": [
    "### **Function to read .mp3 files from local machine**"
   ]
  },
  {
   "cell_type": "code",
   "execution_count": null,
   "id": "5a9aa5b1-3687-4fdb-b7b3-7a540a03108b",
   "metadata": {},
   "outputs": [],
   "source": [
    "import pygame\n",
    "\n",
    "def play_mp3_from_file(file_path):\n",
    "    try:\n",
    "        pygame.mixer.init()\n",
    "        pygame.mixer.music.load(file_path)\n",
    "        pygame.mixer.music.play()\n",
    "        while pygame.mixer.music.get_busy():\n",
    "            pygame.time.Clock().tick(10)\n",
    "    except Exception as e:\n",
    "        print(f\"Error playing MP3 from file: {e}\")"
   ]
  },
  {
   "cell_type": "code",
   "execution_count": null,
   "id": "a7c2abeb-6399-4bd8-ae15-53128e29214e",
   "metadata": {},
   "outputs": [],
   "source": []
  },
  {
   "cell_type": "markdown",
   "id": "9bb5b0af-9c08-4254-9f5c-7af73de5e287",
   "metadata": {},
   "source": [
    "### **Function to get the alarm time**"
   ]
  },
  {
   "cell_type": "code",
   "execution_count": null,
   "id": "90a14e54-c510-468b-bf73-faacc06c1dcf",
   "metadata": {},
   "outputs": [],
   "source": [
    "import datetime\n",
    "import time\n",
    "\n",
    "\n",
    "def set_alarm():\n",
    "    # Get the alarm time from the user\n",
    "    alarm_time_str = input(\"Enter the alarm time in HH:MM format (24-hour clock): \")\n",
    "\n",
    "    try:\n",
    "        # Convert the input string to a datetime object\n",
    "        alarm_time = datetime.datetime.strptime(alarm_time_str, \"%H:%M\").time()\n",
    "    except ValueError:\n",
    "        print(\"Invalid time format. Please use HH:MM format.\")\n",
    "        return\n",
    "\n",
    "    # Get the current time\n",
    "    current_time = datetime.datetime.now().time()\n",
    "\n",
    "    # Calculate the time difference in seconds\n",
    "    time_difference_seconds = (datetime.datetime.combine(datetime.date.today(), alarm_time) -\n",
    "                               datetime.datetime.combine(datetime.date.today(), current_time)).seconds\n",
    "\n",
    "    # Wait until the alarm time is reached\n",
    "    if time_difference_seconds > 0:\n",
    "        print(f\"Alarm set for {alarm_time_str}. Waiting for the alarm...\")\n",
    "        time.sleep(time_difference_seconds)\n",
    "\n",
    "        # Play a sound to notify the user\n",
    "        file_path = r\"the file path here\"\n",
    "        play_mp3_from_file(file_path)\n",
    "        print(\"Time to wake up!\")\n",
    "\n",
    "    else:\n",
    "        print(\"Invalid time. Please enter a future time.\")\n",
    "\n",
    "if __name__ == \"__main__\":\n",
    "    set_alarm()"
   ]
  }
 ],
 "metadata": {
  "kernelspec": {
   "display_name": "Python 3 (ipykernel)",
   "language": "python",
   "name": "python3"
  },
  "language_info": {
   "codemirror_mode": {
    "name": "ipython",
    "version": 3
   },
   "file_extension": ".py",
   "mimetype": "text/x-python",
   "name": "python",
   "nbconvert_exporter": "python",
   "pygments_lexer": "ipython3",
   "version": "3.11.5"
  }
 },
 "nbformat": 4,
 "nbformat_minor": 5
}
