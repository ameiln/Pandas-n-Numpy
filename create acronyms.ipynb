{
 "cells": [
  {
   "cell_type": "code",
   "execution_count": null,
   "id": "356d6db7-b8c9-4f53-b377-26eeb3ea0dfb",
   "metadata": {
    "tags": []
   },
   "outputs": [],
   "source": [
    "def create_acronym(phrase):\n",
    "    splitted_phrase = phrase.split()\n",
    "    \n",
    "    acronym = \" \"\n",
    "    \n",
    "    for word in splitted_phrase:\n",
    "        acronym = acronym + str(word[0]).upper()\n",
    "    return acronym\n",
    "\n",
    "your_input = input(\"Enter a Phrase: \")\n",
    "\n",
    "print(create_acronym(your_input))\n"
   ]
  },
  {
   "cell_type": "code",
   "execution_count": null,
   "id": "d08159a6-2203-4555-82e2-c48f70b4be8f",
   "metadata": {
    "tags": []
   },
   "outputs": [],
   "source": []
  },
  {
   "cell_type": "code",
   "execution_count": null,
   "id": "26e4d885-17bb-4818-b220-b8955450fc35",
   "metadata": {
    "tags": []
   },
   "outputs": [],
   "source": []
  },
  {
   "cell_type": "code",
   "execution_count": null,
   "id": "7f270ab1-99c9-4400-a885-8defd34a1f17",
   "metadata": {},
   "outputs": [],
   "source": []
  },
  {
   "cell_type": "code",
   "execution_count": null,
   "id": "03dcddc8-1696-47d8-afa2-b8c63ea0f244",
   "metadata": {},
   "outputs": [],
   "source": []
  },
  {
   "cell_type": "code",
   "execution_count": null,
   "id": "bdbec545-77df-4b78-9d8f-1273b45f7c20",
   "metadata": {},
   "outputs": [],
   "source": []
  },
  {
   "cell_type": "code",
   "execution_count": null,
   "id": "dd7581c5-01d0-4751-aee3-2de18ed12419",
   "metadata": {},
   "outputs": [],
   "source": []
  },
  {
   "cell_type": "code",
   "execution_count": null,
   "id": "7ebbb0cc-e33d-4a4e-a951-c0d648222c0c",
   "metadata": {},
   "outputs": [],
   "source": []
  }
 ],
 "metadata": {
  "kernelspec": {
   "display_name": "Python 3 (ipykernel)",
   "language": "python",
   "name": "python3"
  },
  "language_info": {
   "codemirror_mode": {
    "name": "ipython",
    "version": 3
   },
   "file_extension": ".py",
   "mimetype": "text/x-python",
   "name": "python",
   "nbconvert_exporter": "python",
   "pygments_lexer": "ipython3",
   "version": "3.11.5"
  }
 },
 "nbformat": 4,
 "nbformat_minor": 5
}
