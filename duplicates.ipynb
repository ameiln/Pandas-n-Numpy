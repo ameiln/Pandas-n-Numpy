{
 "cells": [
  {
   "cell_type": "code",
   "execution_count": 1,
   "id": "689d639a-b79c-4d9b-a8e8-240ee42203ac",
   "metadata": {
    "tags": []
   },
   "outputs": [],
   "source": [
    "import pandas as pd"
   ]
  },
  {
   "cell_type": "code",
   "execution_count": 2,
   "id": "32fe428d-dfc4-4097-bfba-4b5d5e69cc7d",
   "metadata": {
    "tags": []
   },
   "outputs": [
    {
     "data": {
      "text/html": [
       "<div>\n",
       "<style scoped>\n",
       "    .dataframe tbody tr th:only-of-type {\n",
       "        vertical-align: middle;\n",
       "    }\n",
       "\n",
       "    .dataframe tbody tr th {\n",
       "        vertical-align: top;\n",
       "    }\n",
       "\n",
       "    .dataframe thead th {\n",
       "        text-align: right;\n",
       "    }\n",
       "</style>\n",
       "<table border=\"1\" class=\"dataframe\">\n",
       "  <thead>\n",
       "    <tr style=\"text-align: right;\">\n",
       "      <th></th>\n",
       "      <th>A</th>\n",
       "      <th>B</th>\n",
       "    </tr>\n",
       "  </thead>\n",
       "  <tbody>\n",
       "    <tr>\n",
       "      <th>0</th>\n",
       "      <td>1</td>\n",
       "      <td>apple</td>\n",
       "    </tr>\n",
       "    <tr>\n",
       "      <th>1</th>\n",
       "      <td>2</td>\n",
       "      <td>banana</td>\n",
       "    </tr>\n",
       "    <tr>\n",
       "      <th>2</th>\n",
       "      <td>2</td>\n",
       "      <td>banana</td>\n",
       "    </tr>\n",
       "    <tr>\n",
       "      <th>3</th>\n",
       "      <td>3</td>\n",
       "      <td>cherry</td>\n",
       "    </tr>\n",
       "    <tr>\n",
       "      <th>4</th>\n",
       "      <td>4</td>\n",
       "      <td>date</td>\n",
       "    </tr>\n",
       "    <tr>\n",
       "      <th>5</th>\n",
       "      <td>4</td>\n",
       "      <td>date</td>\n",
       "    </tr>\n",
       "  </tbody>\n",
       "</table>\n",
       "</div>"
      ],
      "text/plain": [
       "   A       B\n",
       "0  1   apple\n",
       "1  2  banana\n",
       "2  2  banana\n",
       "3  3  cherry\n",
       "4  4    date\n",
       "5  4    date"
      ]
     },
     "execution_count": 2,
     "metadata": {},
     "output_type": "execute_result"
    }
   ],
   "source": [
    "data = {'A': [1, 2, 2, 3, 4, 4],\n",
    "        'B': ['apple', 'banana', 'banana', 'cherry', \n",
    "              'date', 'date']}\n",
    "df = pd.DataFrame(data)\n",
    "df"
   ]
  },
  {
   "cell_type": "code",
   "execution_count": null,
   "id": "60a46534-1003-4ac0-9fdc-b1a8afd0fbf1",
   "metadata": {},
   "outputs": [],
   "source": []
  },
  {
   "cell_type": "markdown",
   "id": "e8c0244c-5681-48c6-a116-426d54d88926",
   "metadata": {},
   "source": [
    "# Finding Duplicates"
   ]
  },
  {
   "cell_type": "code",
   "execution_count": 3,
   "id": "4ff76761-cb1a-4edf-9fdf-ed4708a0e49a",
   "metadata": {
    "tags": []
   },
   "outputs": [
    {
     "data": {
      "text/plain": [
       "0    False\n",
       "1    False\n",
       "2     True\n",
       "3    False\n",
       "4    False\n",
       "5     True\n",
       "dtype: bool"
      ]
     },
     "execution_count": 3,
     "metadata": {},
     "output_type": "execute_result"
    }
   ],
   "source": [
    "df.duplicated()"
   ]
  },
  {
   "cell_type": "code",
   "execution_count": null,
   "id": "a63e8de5-9ae8-4d3f-8d85-9e50a1355473",
   "metadata": {},
   "outputs": [],
   "source": []
  },
  {
   "cell_type": "code",
   "execution_count": 4,
   "id": "5ac94bb7-eebe-4d6f-8419-0b45488454b4",
   "metadata": {
    "tags": []
   },
   "outputs": [
    {
     "name": "stdout",
     "output_type": "stream",
     "text": [
      "Duplicate Rows:\n",
      "   A       B\n",
      "2  2  banana\n",
      "5  4    date\n"
     ]
    }
   ],
   "source": [
    "duplicate_rows = df[df.duplicated()]\n",
    "print(\"Duplicate Rows:\")\n",
    "print(duplicate_rows)"
   ]
  },
  {
   "cell_type": "code",
   "execution_count": null,
   "id": "a4dd42aa-5c82-4487-b6f3-155f5ce76dba",
   "metadata": {},
   "outputs": [],
   "source": []
  },
  {
   "cell_type": "markdown",
   "id": "a6738513-2cd4-4cb4-9241-121c0a8fc79c",
   "metadata": {},
   "source": [
    "# Managing Duplicates"
   ]
  },
  {
   "cell_type": "markdown",
   "id": "921598a9-62a3-4463-aab5-438437eb8faf",
   "metadata": {},
   "source": [
    "**1. Counting Duplicate Rows**"
   ]
  },
  {
   "cell_type": "code",
   "execution_count": 6,
   "id": "a053e6dd-a67d-4db1-8b95-c644792af827",
   "metadata": {
    "tags": []
   },
   "outputs": [
    {
     "name": "stdout",
     "output_type": "stream",
     "text": [
      "Number of Duplicate Rows: 2\n"
     ]
    }
   ],
   "source": [
    "# Count the occurrences of each unique row (including duplicates)\n",
    "duplicate_counts = df.duplicated().sum()\n",
    "print(\"Number of Duplicate Rows:\", duplicate_counts)"
   ]
  },
  {
   "cell_type": "code",
   "execution_count": null,
   "id": "2f3fa981-32ea-4287-bf7a-a474615d476b",
   "metadata": {},
   "outputs": [],
   "source": []
  },
  {
   "cell_type": "markdown",
   "id": "4b9d6055-568c-4d41-b3f3-1b483a0f09d0",
   "metadata": {},
   "source": [
    "**2. Keeping the Last Occurrence of Duplicates**"
   ]
  },
  {
   "cell_type": "code",
   "execution_count": 7,
   "id": "baf0190e-93eb-440b-a820-53e82249624a",
   "metadata": {
    "tags": []
   },
   "outputs": [
    {
     "name": "stdout",
     "output_type": "stream",
     "text": [
      "DataFrame with Last Occurrence of Duplicates:\n",
      "   A       B\n",
      "0  1   apple\n",
      "2  2  banana\n",
      "3  3  cherry\n",
      "5  4    date\n"
     ]
    }
   ],
   "source": [
    "# Keep the last occurrence of each duplicate row\n",
    "df_last_occurrence = df.drop_duplicates(keep=\"last\")\n",
    "print(\"DataFrame with Last Occurrence of Duplicates:\")\n",
    "print(df_last_occurrence)"
   ]
  },
  {
   "cell_type": "code",
   "execution_count": null,
   "id": "9ea660b6-3590-43dc-b9d9-20d4a3f95884",
   "metadata": {},
   "outputs": [],
   "source": []
  },
  {
   "cell_type": "markdown",
   "id": "71c2d1b2-497b-4508-83eb-5c7be8c49f6b",
   "metadata": {},
   "source": [
    "**3. Marking Duplicates**"
   ]
  },
  {
   "cell_type": "code",
   "execution_count": 8,
   "id": "76f48715-487f-486a-aeb4-d79ea7c88f99",
   "metadata": {
    "tags": []
   },
   "outputs": [
    {
     "name": "stdout",
     "output_type": "stream",
     "text": [
      "DataFrame with Marked Duplicates:\n",
      "   A       B  is_duplicate\n",
      "0  1   apple         False\n",
      "1  2  banana         False\n",
      "2  2  banana          True\n",
      "3  3  cherry         False\n",
      "4  4    date         False\n",
      "5  4    date          True\n"
     ]
    }
   ],
   "source": [
    "# Create a new column 'is_duplicate' to mark duplicate rows\n",
    "df['is_duplicate'] = df.duplicated()\n",
    "print(\"DataFrame with Marked Duplicates:\")\n",
    "print(df)"
   ]
  },
  {
   "cell_type": "code",
   "execution_count": null,
   "id": "0aa1b8f4-3974-4092-84d0-a0c4bcc73748",
   "metadata": {},
   "outputs": [],
   "source": []
  },
  {
   "cell_type": "markdown",
   "id": "c7cce765-7dc0-4c04-9f2b-bfe12a9238d9",
   "metadata": {},
   "source": [
    "# Removing Duplicates"
   ]
  },
  {
   "cell_type": "code",
   "execution_count": 9,
   "id": "44669c1e-b11a-4897-a6a6-2357f402ae9a",
   "metadata": {
    "tags": []
   },
   "outputs": [
    {
     "data": {
      "text/html": [
       "<div>\n",
       "<style scoped>\n",
       "    .dataframe tbody tr th:only-of-type {\n",
       "        vertical-align: middle;\n",
       "    }\n",
       "\n",
       "    .dataframe tbody tr th {\n",
       "        vertical-align: top;\n",
       "    }\n",
       "\n",
       "    .dataframe thead th {\n",
       "        text-align: right;\n",
       "    }\n",
       "</style>\n",
       "<table border=\"1\" class=\"dataframe\">\n",
       "  <thead>\n",
       "    <tr style=\"text-align: right;\">\n",
       "      <th></th>\n",
       "      <th>A</th>\n",
       "      <th>B</th>\n",
       "    </tr>\n",
       "  </thead>\n",
       "  <tbody>\n",
       "    <tr>\n",
       "      <th>0</th>\n",
       "      <td>1</td>\n",
       "      <td>apple</td>\n",
       "    </tr>\n",
       "    <tr>\n",
       "      <th>1</th>\n",
       "      <td>2</td>\n",
       "      <td>banana</td>\n",
       "    </tr>\n",
       "    <tr>\n",
       "      <th>2</th>\n",
       "      <td>2</td>\n",
       "      <td>banana</td>\n",
       "    </tr>\n",
       "    <tr>\n",
       "      <th>3</th>\n",
       "      <td>3</td>\n",
       "      <td>cherry</td>\n",
       "    </tr>\n",
       "    <tr>\n",
       "      <th>4</th>\n",
       "      <td>4</td>\n",
       "      <td>date</td>\n",
       "    </tr>\n",
       "    <tr>\n",
       "      <th>5</th>\n",
       "      <td>4</td>\n",
       "      <td>date</td>\n",
       "    </tr>\n",
       "  </tbody>\n",
       "</table>\n",
       "</div>"
      ],
      "text/plain": [
       "   A       B\n",
       "0  1   apple\n",
       "1  2  banana\n",
       "2  2  banana\n",
       "3  3  cherry\n",
       "4  4    date\n",
       "5  4    date"
      ]
     },
     "execution_count": 9,
     "metadata": {},
     "output_type": "execute_result"
    }
   ],
   "source": [
    "data = {'A': [1, 2, 2, 3, 4, 4],\n",
    "        'B': ['apple', 'banana', 'banana', 'cherry', \n",
    "              'date', 'date']}\n",
    "df = pd.DataFrame(data)\n",
    "df"
   ]
  },
  {
   "cell_type": "code",
   "execution_count": null,
   "id": "b90a3889-2710-47ca-973c-09a9af023a29",
   "metadata": {},
   "outputs": [],
   "source": []
  },
  {
   "cell_type": "code",
   "execution_count": 10,
   "id": "eadc6001-d3f1-4609-807b-95db2d01e1ba",
   "metadata": {
    "tags": []
   },
   "outputs": [
    {
     "name": "stdout",
     "output_type": "stream",
     "text": [
      "DataFrame without Duplicates:\n",
      "   A       B\n",
      "0  1   apple\n",
      "1  2  banana\n",
      "3  3  cherry\n",
      "4  4    date\n"
     ]
    }
   ],
   "source": [
    "# Remove duplicate rows, keeping the first occurrence\n",
    "df_no_duplicates = df.drop_duplicates()\n",
    "print(\"DataFrame without Duplicates:\")\n",
    "print(df_no_duplicates)"
   ]
  },
  {
   "cell_type": "code",
   "execution_count": null,
   "id": "d6327da1-2047-4030-bcb5-e4c5a910086e",
   "metadata": {},
   "outputs": [],
   "source": []
  }
 ],
 "metadata": {
  "kernelspec": {
   "display_name": "Python 3 (ipykernel)",
   "language": "python",
   "name": "python3"
  },
  "language_info": {
   "codemirror_mode": {
    "name": "ipython",
    "version": 3
   },
   "file_extension": ".py",
   "mimetype": "text/x-python",
   "name": "python",
   "nbconvert_exporter": "python",
   "pygments_lexer": "ipython3",
   "version": "3.11.5"
  }
 },
 "nbformat": 4,
 "nbformat_minor": 5
}
